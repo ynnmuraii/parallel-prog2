{
 "cells": [
  {
   "cell_type": "markdown",
   "id": "5b8d3ab3",
   "metadata": {},
   "source": [
    "### Генератор матриц"
   ]
  },
  {
   "cell_type": "code",
   "execution_count": 9,
   "id": "75091c15",
   "metadata": {},
   "outputs": [],
   "source": [
    "import numpy as np\n",
    "import os\n",
    "\n",
    "def generate_matrix(rows, cols, min_val=0, max_val=10, filename=\"matrix.txt\"):\n",
    "    mat = np.random.randint(min_val, max_val + 1, size=(rows, cols))\n",
    "    with open(filename, \"w\") as f:\n",
    "        f.write(f\"{rows} {cols}\\n\")\n",
    "        for row in mat:\n",
    "            f.write(\" \".join(str(x) for x in row) + \"\\n\")\n",
    "\n",
    "for lab in [\"out\\\\build\\\\x64-Debug\"]:\n",
    "    os.makedirs(lab, exist_ok=True)\n",
    "    pathA = os.path.join(lab, \"matrixA.txt\")\n",
    "    pathB = os.path.join(lab, \"matrixB.txt\")\n",
    "    generate_matrix(1000, 1000, 1, 10, pathA)\n",
    "    generate_matrix(1000, 1000, 1, 10, pathB)\n"
   ]
  },
  {
   "cell_type": "markdown",
   "id": "6bcd7cf6",
   "metadata": {},
   "source": [
    "### Верификация результатов"
   ]
  },
  {
   "cell_type": "code",
   "execution_count": null,
   "id": "9644a4ac",
   "metadata": {},
   "outputs": [],
   "source": [
    "import numpy as np\n",
    "\n",
    "def read_matrix(filename):\n",
    "    with open(filename) as f:\n",
    "        rows, cols = map(int, f.readline().split())\n",
    "        data = []\n",
    "        for _ in range(rows):\n",
    "            data.append(list(map(float, f.readline().split())))\n",
    "        return np.array(data)\n",
    "\n",
    "A = read_matrix('matrixA.txt')\n",
    "B = read_matrix('matrixB.txt')\n",
    "C_cpp = read_matrix('matrixC.txt')\n",
    "\n",
    "C_py = A @ B\n",
    "\n",
    "if np.allclose(C_cpp, C_py):\n",
    "    print('Verification successful: results match.')\n",
    "else:\n",
    "    print('Error: results do not match!')\n",
    "    print('C++ result:\\n', C_cpp)\n",
    "    print('Python result:\\n', C_py)"
   ]
  }
 ],
 "metadata": {
  "kernelspec": {
   "display_name": "Python 3",
   "language": "python",
   "name": "python3"
  },
  "language_info": {
   "codemirror_mode": {
    "name": "ipython",
    "version": 3
   },
   "file_extension": ".py",
   "mimetype": "text/x-python",
   "name": "python",
   "nbconvert_exporter": "python",
   "pygments_lexer": "ipython3",
   "version": "3.12.0"
  }
 },
 "nbformat": 4,
 "nbformat_minor": 5
}
